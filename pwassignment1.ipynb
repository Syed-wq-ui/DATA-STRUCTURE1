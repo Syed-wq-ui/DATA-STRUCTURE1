{
  "nbformat": 4,
  "nbformat_minor": 0,
  "metadata": {
    "colab": {
      "provenance": []
    },
    "kernelspec": {
      "name": "python3",
      "display_name": "Python 3"
    },
    "language_info": {
      "name": "python"
    }
  },
  "cells": [
    {
      "cell_type": "markdown",
      "source": [
        "1. What are data structures, and why are they important\n",
        "    >> Data Structure are structures that helps us store and manage data\n",
        "    some python data structure:-\n",
        "    1.List\n",
        "    2.Tuple etc\n",
        "    it is important as it helps in storing sorting and making it easie to read\n",
        "\n",
        "2. Explain the difference between mutable and immutable data types with examples.\n",
        "    >> Mutable data types are  those data types which can be modified afterwards\n",
        "    for eg:-List is a mutable data structure\n",
        "    if we define a list for eg:-\n",
        "    list = ['Mango','Apple',]\n",
        "    if we print it will give mango and apple so if we want to remove mango then we can remove it by\n",
        "    list[0] = 'brinjal'\n",
        "    and the new output will contain brinjal and apple\n",
        "\n",
        "    >> Immutable data types are those data types which cannot be changed/modified\n",
        "    for eg:-String is an immutable data type even if we perform the changing operation it will give an error\n",
        "\n",
        "3. What are the main differences between lists and tuples in Python\n",
        "    >>The main difference between list and tuple is that list is mutable and tuple is immutable\n",
        "\n",
        "4.  Describe how dictionaries store data\n",
        "    >>Dictionaries store data in the form of keys and values\n",
        "    for eg:- Dict = {'Roll No':033}\n",
        "\n",
        "5.  Why might you use a set instead of a list in Python\n",
        "    >>We might use a set instead of list in python because set doesnt let allow same element twice it makes uniqueness    \n",
        "\n",
        "6.  What is a string in Python, and how is it different from a list\n",
        "    >>String is a data structure in python used to store charachter in double quotes.                 String is different than List because string is immutable wheras list are mutable\n",
        "\n",
        "7.  How do tuples ensure data integrity in Python\n",
        "    >>As we know tuples are immutable so it ensures data integrity as no modifications can be done\n",
        "\n",
        "8.  What is a hash table, and how does it relate to dictionaries in Python\n",
        "    >>A Hash table is a Data Structure that stores value in key and value pairs and in dictionary also we store value using key:value form so this is how it is related dictionaries in python uses hash function\n",
        "\n",
        "9.  Can lists contain different data types in Python\n",
        "    >>Yes it can contain tuples,dictionary,strings    \n",
        "\n",
        "10.  Explain why strings are immutable in Python\n",
        "    >>Strings are immutable in python so that the data that is stored is constant\n",
        "\n",
        "11. What advantages do dictionaries offer over lists for certain tasks\n",
        "    >>it is easier to find element in dictionaries rather in list\n",
        "\n",
        "12.  Describe a scenario where using a tuple would be preferable over a list\n",
        "    >>We can take a scenario that if we store a data and pass it to some other person and if he changes it then there can be a big problem and we know that List is mutable so it can be changed but Tuple is immutable and it cannot be changed so in this scenario we prefer tuple over list\n",
        "\n",
        "13.  How do sets handle duplicate values in Python\n",
        "    >>Sets handle duplicate values in python by removing the duplicate and ignoring duplicate  values and helping in making it unique\n",
        "    for eg: set = {1,2,3,4,4,10}\n",
        "    we will get the value {1,2,3,4,10}\n",
        "    the duplicate value 4 will be removed\n",
        "\n",
        "14.  How does the “in” keyword work differently for lists and dictionaries\n",
        "    >>Lets take an example for List\n",
        "    for eg:- list = ['ajay','ahmed']\n",
        "    now if we want to check if some value is present in the list or not\n",
        "    if we search....rahul in list it will give you false and if ahmed in list it will give true but as for dictionaries it only checks for the key part for eg:- name = {'ali':33,'vijay':'35'} we can search only for key values ali in name it will give true but 33 in name will give error\n",
        "\n",
        "15.  Can you modify the elements of a tuple? Explain why or why not\n",
        "    >>No we cannot modify the elements of tuple because tuple is immutable  so that consistency is maintained in data\n",
        "\n",
        "16.  What is a nested dictionary, and give an example of its use case\n",
        "    >>When a dictionary consist of more dictionary within itself then it is known as nested dictionary\n",
        "    use case suppose we are storing details about faculty for eg:-\n",
        "    faculty = {'1002': {'name': 'Harish', 'dept': 'oopj'},\n",
        "    '1003': {'name': 'Srikant', 'dept': 'Maths'} so to store these it is used\n",
        "\n",
        "17.  Describe the time complexity of accessing elements in a dictionary  \n",
        "    >>it has O(1) Time complexity as it uses hash function  \n",
        "\n",
        "18.  In what situations are lists preferred over dictionaries    \n",
        "    >>When you want output just by index and want simple data in those situation lists are preffered over dictionaries\n",
        "\n",
        "19. Why are dictionaries considered unordered, and how does that affect data retrieval\n",
        "    >>Dictionaries are considered unordered beacause they cant give you acces through index because it is not stored in a specific order and it leads to data retreival because you cant acess the data through indexing\n",
        "\n",
        "20.  Explain the difference between a list and a dictionary in terms of data retrieval.\n",
        "    >>In list you can acess the data just acessing it through the index   . But for dictionary you have to acess elements only through key\n",
        "\n",
        "\n",
        "\n",
        "\n"
      ],
      "metadata": {
        "id": "6UJGxVh-2iJG"
      }
    },
    {
      "cell_type": "code",
      "execution_count": 1,
      "metadata": {
        "id": "yr1VXMLB19I_",
        "colab": {
          "base_uri": "https://localhost:8080/"
        },
        "outputId": "abdd1775-8a6d-44e3-f80c-b3297a240fa4"
      },
      "outputs": [
        {
          "output_type": "stream",
          "name": "stdout",
          "text": [
            "Syed\n"
          ]
        }
      ],
      "source": [
        "#Write a code to create a string with your name and print it\n",
        "string = 'Syed'\n",
        "print(string)"
      ]
    },
    {
      "cell_type": "code",
      "source": [
        "# Write a code to find the length of the string \"Hello World\"\n",
        "s = 'hello world'\n",
        "print(len(s))\n"
      ],
      "metadata": {
        "id": "jAoS3e3KNC5O",
        "colab": {
          "base_uri": "https://localhost:8080/"
        },
        "outputId": "0294b88a-7b94-43e3-e6b0-9bf3da66b18e"
      },
      "execution_count": 2,
      "outputs": [
        {
          "output_type": "stream",
          "name": "stdout",
          "text": [
            "11\n"
          ]
        }
      ]
    },
    {
      "cell_type": "code",
      "source": [
        "# Write a code to slice the first 3 characters from the string \"Python Programming\"\n",
        "s = 'Python Programming'\n",
        "print(s[0:3])"
      ],
      "metadata": {
        "colab": {
          "base_uri": "https://localhost:8080/"
        },
        "id": "CWVU2Heun4V1",
        "outputId": "81ab6a22-4435-4df0-e017-93bc2a7a7d9f"
      },
      "execution_count": 5,
      "outputs": [
        {
          "output_type": "stream",
          "name": "stdout",
          "text": [
            "Pyt\n"
          ]
        }
      ]
    },
    {
      "cell_type": "code",
      "source": [
        "#Write a code to convert the string \"hello\" to uppercase\n",
        "s = 'hello world'\n",
        "print(s.upper())"
      ],
      "metadata": {
        "colab": {
          "base_uri": "https://localhost:8080/"
        },
        "id": "hacZf4OQoEi5",
        "outputId": "7706a8dc-ff8c-4c9f-a0cc-92c93f3695d1"
      },
      "execution_count": 7,
      "outputs": [
        {
          "output_type": "stream",
          "name": "stdout",
          "text": [
            "HELLO WORLD\n"
          ]
        }
      ]
    },
    {
      "cell_type": "code",
      "source": [
        "# Write a code to replace the word \"apple\" with \"orange\" in the string \"I like apple\"\n",
        "s = 'I like apple'\n",
        "s = s.replace('apple','orange')\n",
        "print(s)"
      ],
      "metadata": {
        "colab": {
          "base_uri": "https://localhost:8080/"
        },
        "id": "0rH4bb49op-S",
        "outputId": "af8618b9-320e-47a1-cc52-4aa47cefd5d5"
      },
      "execution_count": 12,
      "outputs": [
        {
          "output_type": "stream",
          "name": "stdout",
          "text": [
            "I like orange\n"
          ]
        }
      ]
    },
    {
      "cell_type": "code",
      "source": [
        "#Write a code to create a list with numbers 1 to 5 and print it\n",
        "l = [1,2,3,4,5]\n",
        "print(l)"
      ],
      "metadata": {
        "colab": {
          "base_uri": "https://localhost:8080/"
        },
        "id": "4GZ4nZThpJfq",
        "outputId": "07e37b1f-445c-4284-9478-ad2f86438b8c"
      },
      "execution_count": 13,
      "outputs": [
        {
          "output_type": "stream",
          "name": "stdout",
          "text": [
            "[1, 2, 3, 4, 5]\n"
          ]
        }
      ]
    },
    {
      "cell_type": "code",
      "source": [
        "# Write a code to append the number 10 to the list [1, 2, 3, 4]\n",
        "l = [1,2,3,4]\n",
        "l.append(10)\n",
        "print(l)"
      ],
      "metadata": {
        "colab": {
          "base_uri": "https://localhost:8080/"
        },
        "id": "zb3JjH6vp-5W",
        "outputId": "2c15d230-5842-470a-8828-3c187eb1f4e8"
      },
      "execution_count": 15,
      "outputs": [
        {
          "output_type": "stream",
          "name": "stdout",
          "text": [
            "[1, 2, 3, 4, 10]\n"
          ]
        }
      ]
    },
    {
      "cell_type": "code",
      "source": [
        "# Write a code to remove the number 3 from the list [1, 2, 3, 4, 5]\n",
        "l = [1,2,3,4,5]\n",
        "l.remove(3)\n",
        "print(l)"
      ],
      "metadata": {
        "colab": {
          "base_uri": "https://localhost:8080/"
        },
        "id": "FhcG6k2jqNhL",
        "outputId": "eb2efb7b-b652-4cf4-900c-2620b302a82c"
      },
      "execution_count": 16,
      "outputs": [
        {
          "output_type": "stream",
          "name": "stdout",
          "text": [
            "[1, 2, 4, 5]\n"
          ]
        }
      ]
    },
    {
      "cell_type": "code",
      "source": [
        "# Write a code to access the second element in the list ['a', 'b', 'c', 'd']\n",
        "l = ['a','b','c','d']\n",
        "l[1]\n"
      ],
      "metadata": {
        "colab": {
          "base_uri": "https://localhost:8080/",
          "height": 35
        },
        "id": "5KtCoQdFqeGK",
        "outputId": "6a191768-1640-48e9-c14b-c59a4a9f0a8f"
      },
      "execution_count": 17,
      "outputs": [
        {
          "output_type": "execute_result",
          "data": {
            "text/plain": [
              "'b'"
            ],
            "application/vnd.google.colaboratory.intrinsic+json": {
              "type": "string"
            }
          },
          "metadata": {},
          "execution_count": 17
        }
      ]
    },
    {
      "cell_type": "code",
      "source": [
        "#  Write a code to reverse the list [10, 20, 30, 40, 50].\n",
        "l = [10,20,30,40,50]\n",
        "l[::-1]"
      ],
      "metadata": {
        "colab": {
          "base_uri": "https://localhost:8080/"
        },
        "id": "nSeSj3kesEWK",
        "outputId": "b1050fcc-20ef-4ac5-b265-27d406f05626"
      },
      "execution_count": 20,
      "outputs": [
        {
          "output_type": "execute_result",
          "data": {
            "text/plain": [
              "[50, 40, 30, 20, 10]"
            ]
          },
          "metadata": {},
          "execution_count": 20
        }
      ]
    },
    {
      "cell_type": "code",
      "source": [
        "# Write a code to create a tuple with the elements 100, 200, 300 and print it\n",
        "t = (100,200,300)\n",
        "print(t)"
      ],
      "metadata": {
        "colab": {
          "base_uri": "https://localhost:8080/"
        },
        "id": "p8joxYMhsU6u",
        "outputId": "1467d589-3646-41c0-e8a7-e3c9885a65b1"
      },
      "execution_count": 21,
      "outputs": [
        {
          "output_type": "stream",
          "name": "stdout",
          "text": [
            "(100, 200, 300)\n"
          ]
        }
      ]
    },
    {
      "cell_type": "code",
      "source": [
        "#. Write a code to access the second-to-last element of the tuple ('red', 'green', 'blue', 'yellow')\n",
        "t = ('red','green','blue','yellow')\n",
        "t[-2]"
      ],
      "metadata": {
        "colab": {
          "base_uri": "https://localhost:8080/",
          "height": 35
        },
        "id": "uKLAarOQswSm",
        "outputId": "dde126cb-3131-44ab-fcf6-a11fc63d5d38"
      },
      "execution_count": 24,
      "outputs": [
        {
          "output_type": "execute_result",
          "data": {
            "text/plain": [
              "'blue'"
            ],
            "application/vnd.google.colaboratory.intrinsic+json": {
              "type": "string"
            }
          },
          "metadata": {},
          "execution_count": 24
        }
      ]
    },
    {
      "cell_type": "code",
      "source": [
        "#. Write a code to find the minimum number in the tuple (10, 20, 5, 15)\n",
        "t = (10,20,5,15)\n",
        "min(t)"
      ],
      "metadata": {
        "colab": {
          "base_uri": "https://localhost:8080/"
        },
        "id": "8rAbrTT50zRp",
        "outputId": "c8a9f77a-3e0c-48e8-a988-5265b02e404a"
      },
      "execution_count": 27,
      "outputs": [
        {
          "output_type": "execute_result",
          "data": {
            "text/plain": [
              "5"
            ]
          },
          "metadata": {},
          "execution_count": 27
        }
      ]
    },
    {
      "cell_type": "code",
      "source": [
        "#. Write a code to find the index of the element \"cat\" in the tuple ('dog', 'cat', 'rabbit').\n",
        "t = ('dog','cat','rabbit')\n",
        "t.index('cat')"
      ],
      "metadata": {
        "colab": {
          "base_uri": "https://localhost:8080/"
        },
        "id": "EeBpnGbp1BtF",
        "outputId": "15bbd2f0-f308-4e5b-9987-fde84355aa84"
      },
      "execution_count": 28,
      "outputs": [
        {
          "output_type": "execute_result",
          "data": {
            "text/plain": [
              "1"
            ]
          },
          "metadata": {},
          "execution_count": 28
        }
      ]
    },
    {
      "cell_type": "code",
      "source": [
        "#. Write a code to create a tuple containing three different fruits and check if \"kiwi\" is in it\n",
        "t = ('mango','apple','banana')\n",
        "'kiwi' in t"
      ],
      "metadata": {
        "colab": {
          "base_uri": "https://localhost:8080/"
        },
        "id": "FQ6MM55Q1f6M",
        "outputId": "9762c1f5-7f8f-4eaf-e0e0-8bf722810220"
      },
      "execution_count": 29,
      "outputs": [
        {
          "output_type": "execute_result",
          "data": {
            "text/plain": [
              "False"
            ]
          },
          "metadata": {},
          "execution_count": 29
        }
      ]
    },
    {
      "cell_type": "code",
      "source": [
        "#. Write a code to create a set with the elements 'a', 'b', 'c' and print it.\n",
        "s = {'a','b','c'}\n",
        "print(s)"
      ],
      "metadata": {
        "colab": {
          "base_uri": "https://localhost:8080/"
        },
        "id": "W9NYCeOw1zLs",
        "outputId": "1c036a0e-f707-4f3b-d135-e8e2eae3715a"
      },
      "execution_count": 31,
      "outputs": [
        {
          "output_type": "stream",
          "name": "stdout",
          "text": [
            "{'b', 'a', 'c'}\n"
          ]
        }
      ]
    },
    {
      "cell_type": "code",
      "source": [
        "#. Write a code to clear all elements from the set {1, 2, 3, 4, 5}.\n",
        "s = {1,2,3,4,5}\n",
        "s.clear()\n",
        "print(s)"
      ],
      "metadata": {
        "colab": {
          "base_uri": "https://localhost:8080/"
        },
        "id": "csgFtx8M2D_z",
        "outputId": "d59e4f6b-70fd-49b3-8d67-6e95b0d57e46"
      },
      "execution_count": 35,
      "outputs": [
        {
          "output_type": "stream",
          "name": "stdout",
          "text": [
            "set()\n"
          ]
        }
      ]
    },
    {
      "cell_type": "code",
      "source": [
        "#. Write a code to remove the element 4 from the set {1, 2, 3, 4}\n",
        "s = {1,2,3,4}\n",
        "s.remove(4)\n",
        "print(s)"
      ],
      "metadata": {
        "colab": {
          "base_uri": "https://localhost:8080/"
        },
        "id": "apkqjkpg3AYp",
        "outputId": "217c0db0-c359-4cd4-f014-8781f26bd568"
      },
      "execution_count": 36,
      "outputs": [
        {
          "output_type": "stream",
          "name": "stdout",
          "text": [
            "{1, 2, 3}\n"
          ]
        }
      ]
    },
    {
      "cell_type": "code",
      "source": [
        "# Write a code to find the union of two sets {1, 2, 3} and {3, 4, 5}.\n",
        "s1 = {1,2,3}\n",
        "s2 = {3,4,5}\n",
        "s3 = s1 | s2\n",
        "print(s3)"
      ],
      "metadata": {
        "colab": {
          "base_uri": "https://localhost:8080/"
        },
        "id": "R0OiANsI3fCK",
        "outputId": "ad1f99d2-e5eb-40d9-c1be-a6b61b771fd4"
      },
      "execution_count": 40,
      "outputs": [
        {
          "output_type": "stream",
          "name": "stdout",
          "text": [
            "{1, 2, 3, 4, 5}\n"
          ]
        }
      ]
    },
    {
      "cell_type": "code",
      "source": [
        "# Write a code to find the intersection of two sets {1, 2, 3} and {2, 3, 4}.\n",
        "s1 = {1,2,3}\n",
        "s2 = {2,3,4}\n",
        "s3 = s1 and s2\n",
        "print(s3)\n"
      ],
      "metadata": {
        "colab": {
          "base_uri": "https://localhost:8080/"
        },
        "id": "LtarbOpB3zUy",
        "outputId": "83170535-2cc7-41e8-9424-5409a5cf31ca"
      },
      "execution_count": 41,
      "outputs": [
        {
          "output_type": "stream",
          "name": "stdout",
          "text": [
            "{2, 3, 4}\n"
          ]
        }
      ]
    },
    {
      "cell_type": "code",
      "source": [
        "#. Write a code to create a dictionary with the keys \"name\", \"age\", and \"city\", and print it.\n",
        "dict = {'name':'Syed','age':20,'city':'hyderabad'}\n",
        "print(dict)"
      ],
      "metadata": {
        "colab": {
          "base_uri": "https://localhost:8080/"
        },
        "id": "S7fWnvMQ5Etw",
        "outputId": "966a9102-3ce3-4e05-8f92-0d872903c655"
      },
      "execution_count": 42,
      "outputs": [
        {
          "output_type": "stream",
          "name": "stdout",
          "text": [
            "{'name': 'Syed', 'age': 20, 'city': 'hyderabad'}\n"
          ]
        }
      ]
    },
    {
      "cell_type": "code",
      "source": [
        "#. Write a code to add a new key-value pair \"country\": \"USA\" to the dictionary {'name': 'John', 'age': 25}.\n",
        "dict = {'name':'john','age':25}\n",
        "dict['country'] = 'USA'\n",
        "dict"
      ],
      "metadata": {
        "colab": {
          "base_uri": "https://localhost:8080/"
        },
        "id": "Xbwq5PTK5hAZ",
        "outputId": "3cb5b7a8-59c4-483e-addb-24768ec17be0"
      },
      "execution_count": 44,
      "outputs": [
        {
          "output_type": "execute_result",
          "data": {
            "text/plain": [
              "{'name': 'john', 'age': 25, 'country': 'USA'}"
            ]
          },
          "metadata": {},
          "execution_count": 44
        }
      ]
    },
    {
      "cell_type": "code",
      "source": [
        "# Write a code to access the value associated with the key \"name\" in the dictionary {'name': 'Alice', 'age': 30}\n",
        "t = {'name':'alice','city':'paris'}\n",
        "t['name']"
      ],
      "metadata": {
        "colab": {
          "base_uri": "https://localhost:8080/",
          "height": 35
        },
        "id": "iV79j4nh65JZ",
        "outputId": "4f4fa11f-34c0-406b-ca3a-0925d4aa8565"
      },
      "execution_count": 45,
      "outputs": [
        {
          "output_type": "execute_result",
          "data": {
            "text/plain": [
              "'alice'"
            ],
            "application/vnd.google.colaboratory.intrinsic+json": {
              "type": "string"
            }
          },
          "metadata": {},
          "execution_count": 45
        }
      ]
    },
    {
      "cell_type": "code",
      "source": [
        "#  Write a code to remove the key \"age\" from the dictionary {'name': 'Bob', 'age': 22, 'city': 'New York'}.\n",
        "t = {'name':'bob','age':22,'city':'new york'}\n",
        "del t['age']\n",
        "t"
      ],
      "metadata": {
        "colab": {
          "base_uri": "https://localhost:8080/"
        },
        "id": "f619NAB678og",
        "outputId": "ff148453-09a6-4b95-b1e7-1b2308fd7246"
      },
      "execution_count": 49,
      "outputs": [
        {
          "output_type": "execute_result",
          "data": {
            "text/plain": [
              "{'name': 'bob', 'city': 'new york'}"
            ]
          },
          "metadata": {},
          "execution_count": 49
        }
      ]
    },
    {
      "cell_type": "code",
      "source": [
        "# Write a code to check if the key \"city\" exists in the dictionary {'name': 'Alice', 'city': 'Paris'}\n",
        "t = {'name':'alice','city':'paris'}\n",
        "'city' in t"
      ],
      "metadata": {
        "colab": {
          "base_uri": "https://localhost:8080/"
        },
        "id": "6L_DzHrk_zb-",
        "outputId": "ffb985be-65c5-4ef4-9e7e-2cda7a16a62f"
      },
      "execution_count": 50,
      "outputs": [
        {
          "output_type": "execute_result",
          "data": {
            "text/plain": [
              "True"
            ]
          },
          "metadata": {},
          "execution_count": 50
        }
      ]
    },
    {
      "cell_type": "code",
      "source": [
        "#. Write a code to create a list, a tuple, and a dictionary, and print them\n",
        "dict = {'name':'syed','rollno':23}\n",
        "tup = (1,2,3)\n",
        "list = [1,2,3]\n",
        "print(dict)\n",
        "print(tup)\n",
        "print(list)"
      ],
      "metadata": {
        "colab": {
          "base_uri": "https://localhost:8080/"
        },
        "id": "bhlOxfttAdxr",
        "outputId": "6de50d15-570f-4a48-a705-994d41c7eb85"
      },
      "execution_count": 52,
      "outputs": [
        {
          "output_type": "stream",
          "name": "stdout",
          "text": [
            "{'name': 'syed', 'rollno': 23}\n",
            "(1, 2, 3)\n",
            "[1, 2, 3]\n"
          ]
        }
      ]
    },
    {
      "cell_type": "code",
      "source": [
        "#. Write a code to create a list of 5 random numbers between 1 and 100, sort it in ascending order, and print the\n",
        "#result.(replaced)\n",
        "list = [67,35,46,32,10]\n",
        "list.sort()\n",
        "list"
      ],
      "metadata": {
        "colab": {
          "base_uri": "https://localhost:8080/"
        },
        "id": "na1MPjcUC0LV",
        "outputId": "7c7fda7c-7826-404c-ca33-f0f340359f1b"
      },
      "execution_count": 53,
      "outputs": [
        {
          "output_type": "execute_result",
          "data": {
            "text/plain": [
              "[10, 32, 35, 46, 67]"
            ]
          },
          "metadata": {},
          "execution_count": 53
        }
      ]
    },
    {
      "cell_type": "code",
      "source": [
        "#. Write a code to create a list with strings and print the element at the third index.\n",
        "l = ['arnav','riya','syed','ahmed']\n",
        "l[2]"
      ],
      "metadata": {
        "colab": {
          "base_uri": "https://localhost:8080/",
          "height": 35
        },
        "id": "4EeuIxH-D7WS",
        "outputId": "e8824ca6-1491-41a8-b3ae-381bebeedc7d"
      },
      "execution_count": 54,
      "outputs": [
        {
          "output_type": "execute_result",
          "data": {
            "text/plain": [
              "'syed'"
            ],
            "application/vnd.google.colaboratory.intrinsic+json": {
              "type": "string"
            }
          },
          "metadata": {},
          "execution_count": 54
        }
      ]
    },
    {
      "cell_type": "code",
      "source": [
        "# Write a code to combine two dictionaries into one and print the result.\n",
        "d1 = {'name':'syed'}\n",
        "d2 = {'rollno':23}\n",
        "d3 = d1 | d2\n",
        "d3"
      ],
      "metadata": {
        "colab": {
          "base_uri": "https://localhost:8080/"
        },
        "id": "ytC3P5jXETMS",
        "outputId": "37768188-6ea7-4ce9-98f5-f750b4bbada6"
      },
      "execution_count": 55,
      "outputs": [
        {
          "output_type": "execute_result",
          "data": {
            "text/plain": [
              "{'name': 'syed', 'rollno': 23}"
            ]
          },
          "metadata": {},
          "execution_count": 55
        }
      ]
    },
    {
      "cell_type": "code",
      "source": [
        "# Write a code to convert a list of strings into a set\n",
        "l = ['apple','mango','brinjal']\n",
        "set(l)"
      ],
      "metadata": {
        "colab": {
          "base_uri": "https://localhost:8080/"
        },
        "id": "qynV37TnFA_n",
        "outputId": "4581dd64-6f9d-4426-81f9-4c9acb22f3ca"
      },
      "execution_count": 56,
      "outputs": [
        {
          "output_type": "execute_result",
          "data": {
            "text/plain": [
              "{'apple', 'brinjal', 'mango'}"
            ]
          },
          "metadata": {},
          "execution_count": 56
        }
      ]
    },
    {
      "cell_type": "code",
      "source": [],
      "metadata": {
        "id": "ABgCoBeEFWG5"
      },
      "execution_count": null,
      "outputs": []
    }
  ]
}